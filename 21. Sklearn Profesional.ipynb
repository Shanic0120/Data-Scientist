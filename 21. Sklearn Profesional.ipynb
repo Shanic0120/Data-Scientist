{
 "cells": [
  {
   "cell_type": "markdown",
   "metadata": {},
   "source": [
    "# [Sklearn Profesional](https://scikit-learn.org/stable/)\n",
    "\n",
    "Sklearn surge en el 2007 desde un reto de Google Summer of Code, nace como herramienta universitaria pero se expande para ser una de las librerías más usadas.\n",
    "\n",
    "![](https://static.platzi.com/media/user_upload/ml_map-ce718276-6dfd-4392-ac03-c9b74cb0311c.jpg)\n",
    "\n",
    "**¿Por qué escogerlo?**\n",
    "\n",
    "- Curva de aprendizaje suave\n",
    "- Versátil\n",
    "- Comunidad de soporte\n",
    "- Usado en producción\n",
    "- Integración con librerías externas\n",
    "\n",
    "Los módulos principales son:\n",
    "\n",
    "- Clasificación\n",
    "- Regresión\n",
    "- Clustering\n",
    "- Preprocesamiento\n",
    "- Reducción de dimensionalidad\n",
    "- Selección del modelo"
   ]
  },
  {
   "cell_type": "markdown",
   "metadata": {},
   "source": [
    "## ¿Cómo aprenden las máquinas\n",
    "\n",
    "Dependiendo de la naturaleza de los datos y el objetivo del modelado, se elige entre:\n",
    "\n",
    "- Aprendizaje supervisado: Con los datos que se tienen, se extraen patrones según el target.\n",
    "- Aprendizaje por refuerzo: Si los datos no tienen un objetivo claro, pero si se puede evaluar si una decisión tomada es buena o mala-\n",
    "- Aprendizaje no supervizado: Si no se sabe que esperar de los datos y se quiere explorar una estructura o relaciones, este aprende naturalmente de los datos.\n",
    "- Algoritmos evolutivos: Es una serie de algoritmos heuristicos, en donde en tu espacio de soluciones se explora las mejores candidatos, según se optimice cierta función de costo. Por ejemplo, se usa en la industría automotriz o de diseño aeroespacial para encontrar el mejor diseño que minimice, por ejemplo, la resistencia al aire.\n",
    "- Lógica difusa: Es una generalización de la lógica clásica, pero en lugar de tener solo dos condiciones (verdadero, falso) [principio de tercero excluido], se tienen condiciones de verdad continuas. Por ejemplo, si 1 representa verdadero, y 0 representa falso, en la lógica difusa, el grado de verdad ahora puede tomar valores en el intervalo continuo de [0, 1]. Este enfoque tenía mucho auge en sistemas de control y robotica, antes del auge de las redes neuronales.\n",
    "- Agentes: Para sistemas cuyas propiedades se puede describir por la interacción de agentes, se utiliza este enfoque para encontrar o describir comportamientos en el colectivo. (Por ejemplo, los mercados financieros compuestos por agentes economicos, vendedores y compradores, etc). La física estadística y los sistemas complejos también se ayudan de este enfoque.\n",
    "- Sistemas expertos"
   ]
  },
  {
   "cell_type": "code",
   "execution_count": null,
   "metadata": {},
   "outputs": [],
   "source": []
  }
 ],
 "metadata": {
  "language_info": {
   "name": "python"
  }
 },
 "nbformat": 4,
 "nbformat_minor": 2
}
